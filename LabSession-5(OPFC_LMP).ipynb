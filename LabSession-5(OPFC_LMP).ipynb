{
 "cells": [
  {
   "cell_type": "code",
   "execution_count": 57,
   "metadata": {},
   "outputs": [],
   "source": [
    "import pandapower as pp\n",
    "import numpy as np\n",
    "net = pp.create_empty_network()\n",
    "\n",
    "#create buses\n",
    "bus1 = pp.create_bus(net, vn_kv=220.)\n",
    "bus2 = pp.create_bus(net, vn_kv=110.)\n",
    "bus3 = pp.create_bus(net, vn_kv=110.)\n",
    "bus4 = pp.create_bus(net, vn_kv=110.)\n",
    "\n",
    "#create 220/110 kV transformer\n",
    "pp.create_transformer(net, bus1, bus2, std_type=\"100 MVA 220/110 kV\")\n",
    "\n",
    "#create 110 kV lines\n",
    "pp.create_line(net, bus2, bus3, length_km=70., std_type='149-AL1/24-ST1A 110.0')\n",
    "pp.create_line(net, bus3, bus4, length_km=50., std_type='149-AL1/24-ST1A 110.0')\n",
    "pp.create_line(net, bus4, bus2, length_km=40., std_type='149-AL1/24-ST1A 110.0')\n",
    "\n",
    "#create loads\n",
    "pp.create_load(net, bus2, p_mw=60, controllable=False)\n",
    "pp.create_load(net, bus3, p_mw=70, controllable=False)\n",
    "pp.create_load(net, bus4, p_mw=10, controllable=False)\n",
    "\n",
    "#create generators\n",
    "eg = pp.create_ext_grid(net, bus1, min_p_mw=-1000, max_p_mw=1000)\n",
    "g0 = pp.create_gen(net, bus3, p_mw=80, min_p_mw=0, max_p_mw=80,  vm_pu=1.01, controllable=True)\n",
    "g1 = pp.create_gen(net, bus4, p_mw=100, min_p_mw=0, max_p_mw=100, vm_pu=1.01, controllable=True)"
   ]
  },
  {
   "cell_type": "code",
   "execution_count": 58,
   "metadata": {},
   "outputs": [],
   "source": [
    "#creating cost function for generators and external grid\n",
    "costeg = pp.create_poly_cost(net, 0, 'ext_grid', cp1_eur_per_mw=10)\n",
    "costgen1 = pp.create_poly_cost(net, 0, 'gen', cp1_eur_per_mw=10)\n",
    "costgen2 = pp.create_poly_cost(net, 1, 'gen', cp1_eur_per_mw=10)"
   ]
  },
  {
   "cell_type": "code",
   "execution_count": 59,
   "metadata": {},
   "outputs": [],
   "source": [
    "pp.runopp(net, delta=1e-16)"
   ]
  },
  {
   "cell_type": "code",
   "execution_count": 60,
   "metadata": {},
   "outputs": [],
   "source": [
    "#asigning individual cost to generators\n",
    "net.poly_cost.cp1_eur_per_mw.at[costeg] = 10\n",
    "net.poly_cost.cp1_eur_per_mw.at[costgen1] = 15\n",
    "net.poly_cost.cp1_eur_per_mw.at[costgen2] = 12"
   ]
  },
  {
   "cell_type": "code",
   "execution_count": 61,
   "metadata": {},
   "outputs": [],
   "source": [
    "pp.runopp(net, delta=1e-16)"
   ]
  },
  {
   "cell_type": "code",
   "execution_count": 62,
   "metadata": {},
   "outputs": [],
   "source": [
    "#adding constraint to grid , Transformer loading max 50%\n",
    "net.trafo[\"max_loading_percent\"] = 50\n",
    "pp.runopp(net, delta=1e-16)"
   ]
  },
  {
   "cell_type": "code",
   "execution_count": 63,
   "metadata": {},
   "outputs": [],
   "source": [
    "#adding line constrain , line loading max 50%\n",
    "net.line[\"max_loading_percent\"] = 50\n",
    "pp.runopp(net, delta=1e-16)"
   ]
  },
  {
   "cell_type": "code",
   "execution_count": 64,
   "metadata": {},
   "outputs": [],
   "source": [
    "#adding limit to voltage 1.0<v<1.02(pu)\n",
    "net.bus[\"min_vm_pu\"] = 1.0\n",
    "net.bus[\"max_vm_pu\"] = 1.02\n",
    "pp.runopp(net, delta=1e-16)"
   ]
  },
  {
   "cell_type": "code",
   "execution_count": 65,
   "metadata": {},
   "outputs": [
    {
     "name": "stdout",
     "output_type": "stream",
     "text": [
      "[49.90683880129212, 10.72183179502494, 81.86346210146748]\n",
      "[50.906838837614046, 10.721831635840147, 81.86346222951283]\n",
      "[1.0000000363219286, -1.5918479334686708e-07, 1.280453574281637e-07]\n",
      "The LMP cost of Bus 1  after adding 1 MW load is: 9.999999511991675\n",
      "[50.906838837614046, 10.721831635840147, 81.86346222951283]\n",
      "[50.918611058534296, 11.076142060464253, 82.5052852533279]\n",
      "[0.011772220920249765, 0.35431042462410645, 0.6418230238150642]\n",
      "The LMP cost of Bus 2  after adding 1 MW load is: 13.134254864344864\n",
      "[50.918611058534296, 11.076142060464253, 82.5052852533279]\n",
      "[50.918598362980106, 12.076196027201947, 82.50524230540015]\n",
      "[-1.269555419014523e-05, 1.0000539667376938, -4.29479277528344e-05]\n",
      "The LMP cost of Bus 3  after adding 1 MW load is: 15.00016717039047\n",
      "[50.918598362980106, 12.076196027201947, 82.50524230540015]\n",
      "[50.918615231823246, 12.076124560428728, 83.50529912172453]\n",
      "[1.6868843140116496e-05, -7.146677321934192e-05, 1.0000568163243884]\n",
      "The LMP cost of Bus 4  after adding 1 MW load is: 11.999778482725771\n"
     ]
    }
   ],
   "source": [
    "#LMP coding\n",
    "tot_bus=4\n",
    "d = [10 , 15, 12]   #cost of ext grid and generator\n",
    "for j in range(tot_bus):\n",
    "    b=[]\n",
    "    c=[]\n",
    "    pp.runopp(net, delta=1e-16)\n",
    "    b.append(net.res_ext_grid.p_mw.at[0])   #adding the reult for external grid - p_mw to b[0]\n",
    "    b.append(net.res_gen.p_mw.at[0])        #adding the reult for generator index[0] - p_mw to b[1]\n",
    "    b.append(net.res_gen.p_mw.at[1])        #adding the reult for generator index[1] - p_mw to b[2]\n",
    "    pp.create_load(net, net.bus.index[j], p_mw=1, controllable=False)    #adding additional 1 MW load to jth(0-4) bus to calulate LMP\n",
    "    pp.runopp(net, delta=1e-16,numba=False)  #again running powerflow to get new results\n",
    "    c.append(net.res_ext_grid.p_mw.at[0])    #adding the reult for external grid - p_mw to b[0]\n",
    "    c.append(net.res_gen.p_mw.at[0])         #adding the reult for generator index[0] - p_mw to b[1]\n",
    "    c.append(net.res_gen.p_mw.at[1])         #adding the reult for generator index[1] - p_mw to b[2]\n",
    "    #print(b)\n",
    "    #print(c)\n",
    "    a=[]\n",
    "    for i in range(len(d)):\n",
    "        y=c[i]-b[i]                         #getting the differnce in both reults\n",
    "        a.append(y)\n",
    "    #print(a)\n",
    "    cost=0\n",
    "    for i in range(len(d)):\n",
    "        f=a[i]*d[i]                        #multiply the cost to the difference to calculate LMP\n",
    "        cost = cost + f\n",
    "    print(\"The LMP cost of Bus\", j+1 ,\" after adding 1 MW load is:\", cost)\n"
   ]
  }
 ],
 "metadata": {
  "kernelspec": {
   "display_name": "base",
   "language": "python",
   "name": "python3"
  },
  "language_info": {
   "codemirror_mode": {
    "name": "ipython",
    "version": 3
   },
   "file_extension": ".py",
   "mimetype": "text/x-python",
   "name": "python",
   "nbconvert_exporter": "python",
   "pygments_lexer": "ipython3",
   "version": "3.9.13"
  },
  "orig_nbformat": 4,
  "vscode": {
   "interpreter": {
    "hash": "7f157edebbdd1a6f557bfb9dc8b4a697a30c05da5ed09c1cf9c1c6abb854d77e"
   }
  }
 },
 "nbformat": 4,
 "nbformat_minor": 2
}
